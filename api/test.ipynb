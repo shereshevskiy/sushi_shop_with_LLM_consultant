{
 "cells": [
  {
   "cell_type": "code",
   "execution_count": 10,
   "metadata": {},
   "outputs": [],
   "source": [
    "SERVER_IP = '127.0.0.1'"
   ]
  },
  {
   "cell_type": "code",
   "execution_count": 9,
   "metadata": {},
   "outputs": [
    {
     "name": "stdout",
     "output_type": "stream",
     "text": [
      "{\"message\":\"answer\"}\n"
     ]
    }
   ],
   "source": [
    "import requests\n",
    "response = requests.get(f'http://{SERVER_IP}:5000')\n",
    "print(response.text)"
   ]
  },
  {
   "cell_type": "code",
   "execution_count": 11,
   "metadata": {},
   "outputs": [
    {
     "name": "stdout",
     "output_type": "stream",
     "text": [
      "('{\"answer\":\"Наша компания \\\\\"СушиShop\\\\\" специализируется на доставке свежих '\n",
      " 'суши и роллов. Мы стремимся предоставлять высококачественную продукцию в '\n",
      " 'кратчайшие сроки.\"}')\n"
     ]
    }
   ],
   "source": [
    "import requests\n",
    "import pprint\n",
    "param = {\n",
    "    'text': 'Чем занимается ваша компания?'\n",
    "}\n",
    "response = requests.post(f'http://{SERVER_IP}:5000/api/get_answer', json = param)\n",
    "pprint.pprint(response.text)"
   ]
  }
 ],
 "metadata": {
  "kernelspec": {
   "display_name": ".venv",
   "language": "python",
   "name": "python3"
  },
  "language_info": {
   "codemirror_mode": {
    "name": "ipython",
    "version": 3
   },
   "file_extension": ".py",
   "mimetype": "text/x-python",
   "name": "python",
   "nbconvert_exporter": "python",
   "pygments_lexer": "ipython3",
   "version": "3.12.8"
  }
 },
 "nbformat": 4,
 "nbformat_minor": 2
}
